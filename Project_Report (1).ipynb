{
  "nbformat": 4,
  "nbformat_minor": 0,
  "metadata": {
    "colab": {
      "provenance": [],
      "collapsed_sections": []
    },
    "kernelspec": {
      "name": "python3",
      "display_name": "Python 3"
    },
    "language_info": {
      "name": "python"
    }
  },
  "cells": [
    {
      "cell_type": "markdown",
      "metadata": {
        "id": "2AlbQYnt-wck"
      },
      "source": [
        "\n",
        "**LINK** : [Project Report Link ](https://colab.research.google.com/drive/1lM1EV566l63DXfbDQV3LBZJ7-Wxp_3tX#scrollTo=2AlbQYnt-wck)"
      ]
    },
    {
      "cell_type": "markdown",
      "metadata": {
        "id": "_2GVmVS1K1J7"
      },
      "source": [
        "#**GROUP - 13**\n",
        "#**PROJECT REPORT** \n",
        "\n",
        "$Group$ $Members$ \n",
        "\n",
        "**AGNIVA DAS** : 21CY40003 \\\n",
        "**ANIKET SEHGAL** : 21CY40005 \\\n",
        "**SHIVAM SEHGAL** : 21CY40042   \n",
        "**SRUSHTI DINESHCHANDRA TAMBAKUWALA** : 21CY40045 \n",
        "\n",
        "**DATE** : 10 $^{th}$ NOVEMBER 2021 "
      ]
    },
    {
      "cell_type": "markdown",
      "metadata": {
        "id": "FwQbpST-KnhG"
      },
      "source": [
        "#**$\\mathbf{STUDY}$ $\\mathbf{THE}$ $\\mathbf{DYNAMICS}$ $\\mathbf{OF}$ $\\mathbf{TWO}$ $\\mathbf{LEVEL}$ $\\mathbf{SYSTEM}$ $\\mathbf{USING}$ $\\mathbf{PYTHON}$**"
      ]
    },
    {
      "cell_type": "markdown",
      "metadata": {
        "id": "Z3IwRMx45eSj"
      },
      "source": [
        "##**INTRODUCTION**"
      ]
    },
    {
      "cell_type": "markdown",
      "metadata": {
        "id": "6B7fHazLNL-a"
      },
      "source": [
        "The simplest quantum system we can imagine is a two-level system. We can though analytically solve the dynamics of the isolated two-level system. But when we have an open system, we have to use different approximations and theoretical tool to solve the dynamics of the two-level system. We have Lindblad approach, Redfield equation, Langevin techniques etc. to tackle the open system problem.\n",
        "\n",
        "Here, we would follow the Lindblad master equation to solve the dynamics of the two-level system. We have a Hamiltonian with only $\\sigma_x$ drive and and the dynamic time-evolution of the density matrix follow the equation :\n",
        "\n",
        "$$\\frac{d\\rho}{dt} = -i [\\hat{H},\\rho]+\\gamma(\\hat{L^\\dagger} \\hat{L_\\rho} - \\frac{1}{2}\\{\\hat{L}\\hat{L^\\dagger},\\rho\\})$$\n",
        "\n",
        "where the *Hamiltonian* is\n",
        "      $$\\hat{H} = \\omega(\\left|1 \\right\\rangle\\left\\langle 0\\right|+\\left|0 \\right\\rangle\\left\\langle 1\\right|)$$\n",
        "\n",
        "and \n",
        "$\\hat{L}$ is given by\\\n",
        "$$\\begin{pmatrix}\n",
        "0 & \\Omega\\\\\n",
        "0 & 0\n",
        "\\end{pmatrix}$$\n",
        "\n",
        "Now, our **Goal** is to solve the differential equation for density matrix (which is indeed a differential equation of matrix) to understand the variation of the population of the states with time. We use numerical integration method using Python to solve the Lindblad master equation in this project. We would also change the initial condition i.e. the initial population to understand the dynamics.\n"
      ]
    },
    {
      "cell_type": "markdown",
      "metadata": {
        "id": "QV3lCpvhY95E"
      },
      "source": [
        "##**EXPLANATION OF PROJECT**"
      ]
    },
    {
      "cell_type": "markdown",
      "metadata": {
        "id": "QwQX8BCnZfk6"
      },
      "source": [
        "\n",
        "Coming to the Procedure,\n",
        "\n",
        "We want to explain the procedure to solve the differential equation. As it is our Python Project. So, Our main target is to solve the differential equation mathematically using Python programming. We are not so much interested about the physical significance of this Quantum Mechanical system.\n",
        "\n",
        "So, what we basically see from this differential equation is that it **can not be solvable** by any algebraic method or more clearly we can not integrate this whole function which is in the right hand side with respect to dt.\n",
        "Now, only way to solve this equation is to apply the numerical methods. Any numerical methods we can use to integrate. \n",
        "Here, more precisely we use **Huen's Method** .\n",
        "\n",
        "***STEP - 1***\n",
        "\n",
        "Now, what we know is any type of operator and it's solution can be expressed as Matrix form. Now, As our system is a two-level system, so there will be a formation of 2$\\times$2 matrix which lead to give 4 solutions of Density Matrix ($\\rho$) which we want to calculate or more accurately want to solve.\n",
        "\n",
        "For these 4 solutions of Density Matrix ($\\rho$),  we will get four Wave functions vs Time curve. As we are solving it numerically, we won't get any type of wave function nature but what we will get is that the schematic diagram or the nature of the wave functions or the curve.\n",
        "\n",
        "These 4 Solutions actually represent the four different states of the system.\n",
        "\n",
        "\n",
        "---\n",
        "\n",
        "\\\\\n",
        "***STEP - 2*** \n",
        "\n",
        "Our Hamiltonian $\\hat{H}$ is expressed as\\\n",
        "$$\\begin{pmatrix}\n",
        "0+i.0 & 1+i.0\\\\\n",
        "1+i.0 & 0+i.0\n",
        "\\end{pmatrix}$$\n",
        "\n",
        "\n",
        "As we have taken $\\gamma$=1,  and for simplification, let $L$ be \n",
        "\n",
        "$${L}=(\\hat{L^\\dagger} \\hat{L_\\rho} -\\frac{1}{2} \\{\\hat{L}\\hat{L^\\dagger},\\rho\\})$$\n",
        "\n",
        "Since, **{}** sign indicates anti-commutator of an elements A and B\n",
        "\n",
        "\n",
        " $\\{\\hat{L}\\hat{L^\\dagger},\\rho\\}$ = $\\{\\hat{L}\\hat{L^\\dagger}\\rho+\\rho\\hat{L}\\hat{L^\\dagger}\\}$\n",
        "\n",
        "So, $L$ can also be written as  \n",
        "$${L}=(\\hat{L^\\dagger} \\hat{L_\\rho} - \\frac{1}{2} \\{\\hat{L}\\hat{L^\\dagger}\\rho+\\rho\\hat{L}\\hat{L^\\dagger}\\})$$\n",
        "\n",
        "\n",
        "In the python code, it is stated as \n",
        "### $L$ = **np.dot((np.dot(l,rho)), np.conjugate(np.transpose(l)))** - **0.5*(np.dot(np.conjugate(np.transpose(l)),(np.dot(l,rho)))+np.dot(rho,np.dot(np.conjugate(np.transpose(l)),l)))**###\n",
        "\n",
        "[SCHEMATIC DIAGRAM OF TWO-LEVEL SYSTEM](https://drive.google.com/file/d/1UH1NFA4bCIVPn8AXR2M2eGBU5ZKm8L_P/view?usp=sharing)\n",
        "\n",
        "\n",
        "\n",
        "---\n",
        "\\\\\n",
        "***STEP - 3***\n",
        "\n",
        "\n",
        "Now, The whole right hand side of the **Lindblad Master Equation** is denoted by $f$\n",
        "and can be written as \n",
        "$${f}= -i [\\hat{H},\\rho]+\\gamma(\\hat{L^\\dagger} \\hat{L_\\rho} - \\{\\hat{L}\\hat{L^\\dagger},\\rho\\})$$\n",
        "\n",
        "$${f}= -i [\\hat{H},\\rho]+\\gamma {L}$$\n",
        "\n",
        "\n",
        "\n",
        "In the python code, it is stated as \n",
        "###$f$ = **np.multiply(complex(0,-1),(np.dot(H,rho)-np.dot(rho,H)))** + $g$*$L$###\n",
        "where $\\gamma$= $g$= 1 we assume for the sake of simplicity in the code.\n",
        "\n",
        "\n",
        "\n",
        "---\n",
        "\n",
        "\\\\\n",
        "***STEP - 4***\n",
        "\n",
        "Then we used the **Huen's method** to integrate the function in a given range. The range, no of loops, the value of the differential element, all are clearly mentioned in the code. The code of the Huen's method which is basically the loop part in the code is also mentioned clearly.\n",
        "\n",
        "After that we got the 4 different numerical solutions of the density function $\\rho$ and also the schematic diagram of the curves. \\\n",
        "\n",
        "\\\\\n",
        "\n",
        "\n",
        "\n",
        "\n",
        "\n",
        "\n",
        "\n",
        "\n",
        "\n"
      ]
    },
    {
      "cell_type": "markdown",
      "metadata": {
        "id": "SnlNNASrzMvT"
      },
      "source": [
        "##**SOLUTION OF LINDBLAD MASTER EQUATION**"
      ]
    },
    {
      "cell_type": "code",
      "metadata": {
        "colab": {
          "base_uri": "https://localhost:8080/",
          "height": 364
        },
        "id": "g-W64UFMgG6e",
        "outputId": "67a85f5f-ab1a-40e8-d585-64673291e181"
      },
      "source": [
        "import numpy as np\n",
        "import matplotlib\n",
        "import matplotlib.pyplot as plt\n",
        "\n",
        "\n",
        "\n",
        "a1 = np.array([[complex(1,0), complex(0,0)],[complex(0,0),complex(0,0)]])\n",
        "a2 = np.array([[complex(0,0),complex(1,0)],[complex(0,0),complex(0,0)]])\n",
        "a3 = np.array([[complex(0,0),complex(0,0)],[complex(1,0),complex(0,0)]])\n",
        "a4 = np.array([[complex(0,0),complex(0,0)],[complex(0,0),complex(1,0)]])\n",
        "\n",
        "#print(a3)......testing\n",
        "\n",
        "\n",
        "\n",
        "dt = 0.04\n",
        "T = 10\n",
        "N = int(T/dt)\n",
        "#w = 2\n",
        "g = 1\n",
        "t = np.zeros(N+1)\n",
        "\n",
        "\n",
        "p11 = np.zeros(N+1, dtype=np.complex128)\n",
        "p12 = np.zeros(N+1, dtype=np.complex128)\n",
        "p21 = np.zeros(N+1, dtype=np.complex128)\n",
        "p22 = np.zeros(N+1, dtype=np.complex128)\n",
        "\n",
        "#initialization of the density matrix rho\n",
        "p11[0] = complex(0,0)\n",
        "p12[0] = complex(0,0)\n",
        "p21[0] = complex(0,0)\n",
        "p22[0] = complex(1,0)\n",
        "\n",
        "rho = np.array([[p11[0],p12[0]],[p21[0],p22[0]]])\n",
        "#print(rho)\n",
        "#\n",
        "H11 = complex(0,0)\n",
        "H12 = complex(1,0)\n",
        "H21 = complex(1,0)\n",
        "H22 = complex(0,0)\n",
        "\n",
        "H = np.multiply(a1,H11) + np.multiply(a2,H12)+ np.multiply(a3,H21) + np.multiply(a4,H22)\n",
        "\n",
        "#print(H)......testing\n",
        "\n",
        "\n",
        "l11 = complex(0,0)\n",
        "l12 = complex(1,0)\n",
        "l21 = complex(0,0)\n",
        "l22 = complex(0,0)\n",
        "\n",
        "\n",
        "l = np.multiply(a1,l11) + np.multiply(a2,l12)+ np.multiply(a3,l21) + np.multiply(a4,l22)\n",
        "\n",
        "#print(l)\n",
        "\n",
        "\n",
        "L = np.dot((np.dot(l,rho)), np.conjugate(np.transpose(l)))\\\n",
        "    - 0.5*(np.dot(np.conjugate(np.transpose(l)),(np.dot(l,rho)))+np.dot(rho,np.dot(np.conjugate(np.transpose(l)),l)))\n",
        "    \n",
        "\n",
        "#print(L)\n",
        "\n",
        "\n",
        "#the right hand side of the differential equation\n",
        "f = np.multiply(complex(0,-1),(np.dot(H,rho)-np.dot(rho,H)))+g*L\n",
        "#print(f)\n",
        "\n",
        "\n",
        "rho_2 = np.zeros((2,2),dtype=np.complex128)\n",
        "\n",
        "#*************using Heun's method**********\n",
        "\n",
        "for n in range (N):\n",
        "    rho_2[0,0] = rho[0,0] + dt*f[0][0]\n",
        "    rho_2[1,0] = rho[1,0] + dt*f[1][0]\n",
        "    rho_2[0,1] = rho[0,1] + dt*f[0][1]\n",
        "    rho_2[1,1] = rho[1,1] + dt*f[1][1]\n",
        "    L = np.dot((np.dot(l,rho_2)), np.conjugate(np.transpose(l)))\\\n",
        "    - 0.5*(np.dot(np.conjugate(np.transpose(l)),(np.dot(l,rho_2)))+np.dot(rho_2,np.dot(np.conjugate(np.transpose(l)),l)))\n",
        "    #print(L)\n",
        "    k = np.multiply(complex(0,-1),(np.dot(H,rho_2)-np.dot(rho_2,H)))+g*L\n",
        "    #print(k)\n",
        "    p11[n+1] = p11[n] + 0.5*dt*(f[0][0]+k[0][0]) \n",
        "    p12[n+1] = p12[n] + 0.5*dt*(f[0][1]+k[0][1])\n",
        "    p21[n+1] = p21[n] + 0.5*dt*(f[1][0]+k[1][0])\n",
        "    p22[n+1] = p22[n] + 0.5*dt*(f[1][1]+k[1][1])\n",
        "    #print(p11[n+1],p12[n+1],p21[n+1],p22[n+1])\n",
        "    rho[0,0] = p11[n+1]\n",
        "    rho[0,1] = p12[n+1]\n",
        "    rho[1,0] = p21[n+1]\n",
        "    rho[1,1] = p22[n+1]\n",
        "    L = np.dot((np.dot(l,rho)), np.conjugate(np.transpose(l)))\\\n",
        "    - 0.5*(np.dot(np.conjugate(np.transpose(l)),(np.dot(l,rho)))+np.dot(rho,np.dot(np.conjugate(np.transpose(l)),l)))\n",
        "    #print(L)\n",
        "    f = np.multiply(complex(0,-1),(np.dot(H,rho)-np.dot(rho,H)))+g*L\n",
        "    t[n+1] = t[n] + dt\n",
        "    \n",
        "    \n",
        "            \n",
        "#plt.plot(t,p11.real)\n",
        "#plt.legend(['rho_11'])\n",
        "#plt.show\n",
        "\n",
        "#plt.plot(t,p22.real)\n",
        "#plt.show\n",
        "\n",
        "\n",
        "\n",
        "#subplot\n",
        "\n",
        "fig, axs = plt.subplots(2, 2)\n",
        "axs[0,0].plot(t, p11,label=r'$\\rho_{11}$')\n",
        "axs[0,0].set_title(r\"$\\rho_{11}$\")\n",
        "axs[0,0].legend(loc=\"upper right\")\n",
        "axs[0,0].set_xlabel(r'Time')\n",
        "axs[0,0].set_ylabel(r'$\\rho (t)$')\n",
        "\n",
        "axs[1,0].plot(t, p21.real,label=r'Re($\\rho_{21}$)')\n",
        "axs[1,0].plot(t, p21.imag,label=r'Im($\\rho_{21}$)')\n",
        "axs[1,0].set_ylim(bottom=-0.7, top=0.7)\n",
        "axs[1,0].set_title(r\"$\\rho_{21}$\")\n",
        "axs[1,0].legend(loc=\"upper right\")\n",
        "axs[1,0].set_xlabel(r'Time')\n",
        "axs[1,0].set_ylabel(r'$\\rho (t)$')\n",
        "\n",
        "axs[0,1].set_title(r\"$\\rho_{12}$\")\n",
        "axs[0,1].set_ylim(bottom=-0.7, top=0.7)\n",
        "axs[0,1].plot(t, p12.real,label=r'Re($\\rho_{12}$)')\n",
        "axs[0,1].plot(t, p12.imag,label=r'Im($\\rho_{12}$)')\n",
        "axs[0,1].legend(loc=\"lower right\")\n",
        "axs[0,1].set_xlabel(r'Time')\n",
        "axs[0,1].set_ylabel(r'$\\rho (t)$')\n",
        "\n",
        "axs[1,1].plot(t, p22,label=r'$\\rho_{22}$')\n",
        "axs[1,1].legend(loc=\"upper right\")\n",
        "axs[1,1].set_title(r\"$\\rho_{22}$\")\n",
        "axs[1,1].set_xlabel(r'Time')\n",
        "axs[1,1].set_ylabel(r'$\\rho (t)$')\n",
        "fig.tight_layout()\n",
        "\n",
        "\n",
        "#saving the image\n",
        "plt.savefig('two_level_system.pdf')\n",
        "\n",
        "\\\\"
      ],
      "execution_count": null,
      "outputs": [
        {
          "output_type": "stream",
          "name": "stderr",
          "text": [
            "/usr/local/lib/python3.7/dist-packages/numpy/core/_asarray.py:83: ComplexWarning: Casting complex values to real discards the imaginary part\n",
            "  return array(a, dtype, copy=False, order=order)\n",
            "/usr/local/lib/python3.7/dist-packages/numpy/core/_asarray.py:83: ComplexWarning: Casting complex values to real discards the imaginary part\n",
            "  return array(a, dtype, copy=False, order=order)\n"
          ]
        },
        {
          "output_type": "display_data",
          "data": {
            "image/png": "[encoded data removed]",
            "text/plain": [
              "<Figure size 432x288 with 4 Axes>"
            ]
          },
          "metadata": {
            "needs_background": "light"
          }
        }
      ]
    },
    {
      "cell_type": "markdown",
      "metadata": {
        "id": "95n3KGJt5xSj"
      },
      "source": [
        "##**DISCUSSION ON THE RESULT AND INTERPRETATION OF THE CURVE**##"
      ]
    },
    {
      "cell_type": "markdown",
      "metadata": {
        "id": "d_w1n9upoTHl"
      },
      "source": [
        "\n",
        "\n",
        "So if we see the values we get 4 different solutions which are $\\rho_{11}$, $\\rho_{12}$, $\\rho_{21}$, $\\rho_{22}$ . \\\\\n",
        "$$\\rho = \\begin{pmatrix}\n",
        "\\rho_{11} & \\rho_{12}\\\\\n",
        "\\rho_{21} & \\rho_{22}\n",
        "\\end{pmatrix}$$\n",
        "\n",
        "What we can see from the graphs (shown below of the code) is that $\\rho_{11}$ and $\\rho_{22}$ have only real part no imaginary part. In case of $\\rho_{12}$ and $\\rho_{21}$ there are both Real and Imaginary part. However, if we see these two graphs more closely then we can see that both the two values are just conjugte two each other, i.e, the curvature of the imaginary part of $\\rho_{12}$ is just opposite that of curvature of $\\rho_{21}$. \n",
        "\n",
        "We already defined eralier that $\\left|0 \\right\\rangle$ represents the Ground State whereas $\\left|1 \\right\\rangle$ denotes the Excited State. \\\n",
        "From our result we can easily say that $\\rho_{11}$ and $\\rho_{22}$ represents the two stationay states which are Ground state and Excited State respectively (in our system  $\\left|0 \\right\\rangle$ and $\\left|1 \\right\\rangle$ respectively). Whereas  $\\rho_{12}$ denotes the transition fron Ground state to excited state(i.e, transition from $\\left|0 \\right\\rangle$ to $\\left|1 \\right\\rangle$) and $\\rho_{21}$ denotes the transition fom Excited state to Ground State(i.e, transition from $\\left|1 \\right\\rangle$ to $\\left|0 \\right\\rangle$) which is just conjugate to the first transition.\n",
        "\n",
        "\n",
        "\\\\"
      ]
    },
    {
      "cell_type": "markdown",
      "metadata": {
        "id": "w-Ljwr4B4_I9"
      },
      "source": [
        "##**FUTURE APPLICATIONS OF PROJECT**"
      ]
    },
    {
      "cell_type": "markdown",
      "metadata": {
        "id": "BnC_mO-J53a0"
      },
      "source": [
        "In this project work, we basically solve a differential equation numerically and obtain the numerical solutions of the variable. We use Huen's method to solve these differential equations. The most important thing is that here we use the Matrices for each system and use the programming to solve the system. So our effort is basically reduced because we don't need to solve the equations and the values discretely for each case. \\\\\n",
        "\n",
        "\\\\\n",
        "Important points for the future application :\n",
        "\n",
        "\n",
        "1. Now, as it is a numerical solution of the differential equation, we can use this type of coding in our future to solve complex differential equations which can not be solved by any type of algebraic methods or techniques.  \n",
        "\n",
        "\n",
        "2. Here we solved the 2 level system dynamics using Lindblad equation where only the $\\sigma_x$ drive is present. For many other complex systems, it can be solved. But there coding will also be more complexed because in those cases there will be more external drives and force or potentials more precisely restrictions which will be considered.\n",
        "\n",
        "\n",
        "3. We can also use this type of solution approach for solving the quantum tunneling with rectangular and parabolic structure.\n",
        "\n",
        "\n",
        "4. In a system like excitation of electrons from one state to another state, we can use this type of solution approach. This is not only the case of any free sytem. In reality, in the molecules or compounds the electrons jump from one state to another state in presence of heat or photon as the energy source, in such cases if the transition may express as the differential equation in Quantum Mechanical treatment, that can also be solved by this type of numerical solution or code."
      ]
    },
    {
      "cell_type": "markdown",
      "metadata": {
        "id": "Z8hfSXrm2qgk"
      },
      "source": [
        "##**REFERENCES**\n",
        "**1.** S. Linge and H.P. Langtangen. *Programming* *for* *Computations* - Python:\n",
        "*A* *Gentle Introduction to Numerical Simulations with Python 3.6*. Texts in\n",
        "Computational Science and Engineering. Springer International Publishing,\n",
        "2019.\n",
        "\n",
        "**2.** A. Nitzan. *Chemical Dynamics in Condensed Phases: Relaxation, Transfer,\n",
        "and Reactions in Condensed Molecular Systems*. Oxford Graduate Texts.\n",
        "OUP Oxford, 2013.\n"
      ]
    }
  ]
}